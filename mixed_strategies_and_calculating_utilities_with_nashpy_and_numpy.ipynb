{
 "cells": [
  {
   "cell_type": "markdown",
   "metadata": {
    "colab_type": "text",
    "id": "6-_cqcSQI5Ak"
   },
   "source": [
    "# mixed strategies & calculating utilities with Nashpy & Numpy\n",
    "\n",
    "* Nashpy documentation available [here](https://nashpy.readthedocs.io/en/stable/)\n",
    "* Numpy documentation available [here](https://numpy.org/doc/)\n",
    "* intro to game theory from Nashpy [here](https://nashpy.readthedocs.io/en/stable/tutorial/index.html#introduction-to-game-theory)\n",
    "\n",
    "## pure strategy vs mixed strategy\n",
    "\n",
    "***Pure Strategies*** *give a complete definition of how a player will play a game, in order to yield optimum payoff to the player.* \n",
    "\n",
    "***Mixed Strategies*** *assign a probability to each pure strategy, allowing a player to randomly select a pure strategy.* \n",
    "\n",
    "### calculating utilities:\n",
    "\n",
    "![picture](https://drive.google.com/uc?id=1eIMuJo8w5EgJC5mLaxT9kzH8-rdQwm3_)\n",
    "\n",
    "*adapted from Coursera game theory with python project*"
   ]
  },
  {
   "cell_type": "code",
   "execution_count": 1,
   "metadata": {
    "colab": {},
    "colab_type": "code",
    "id": "vDUwerlDI5AS"
   },
   "outputs": [
    {
     "name": "stdout",
     "output_type": "stream",
     "text": [
      "Requirement already satisfied: nashpy in ./.local/lib/python3.9/site-packages (0.0.35)\r\n",
      "Requirement already satisfied: scipy>=0.19.0 in ./.local/lib/python3.9/site-packages (from nashpy) (1.9.2)\r\n",
      "Requirement already satisfied: numpy>=1.21.0 in ./.local/lib/python3.9/site-packages (from nashpy) (1.23.4)\r\n"
     ]
    }
   ],
   "source": [
    "# Import packages\n",
    "!pip install nashpy\n",
    "\n",
    "import nashpy as nash\n",
    "import numpy as np"
   ]
  },
  {
   "cell_type": "markdown",
   "metadata": {
    "colab_type": "text",
    "id": "sV3SS2IKI5Am"
   },
   "source": [
    "#### consider the following Mixed Strategy:\n",
    "\n",
    "σr=(.2,.8) and σc=(.6,.4)\n"
   ]
  },
  {
   "cell_type": "code",
   "execution_count": 5,
   "metadata": {
    "colab": {},
    "colab_type": "code",
    "id": "XPaaw8GXI5An"
   },
   "outputs": [
    {
     "data": {
      "text/plain": [
       "array([9.2, 3.6])"
      ]
     },
     "execution_count": 5,
     "metadata": {},
     "output_type": "execute_result"
    }
   ],
   "source": [
    "# Calculate Utilities\n",
    "\n",
    "sigma_r = np.array([.2,.8])\n",
    "\n",
    "sigma_c = np.array([.6,.4])\n",
    "\n",
    "# same game from task 1 above\n",
    "pd = nash.Game(P1, P2)\n",
    "\n",
    "pd[sigma_r, sigma_c]"
   ]
  },
  {
   "cell_type": "markdown",
   "metadata": {
    "colab_type": "text",
    "id": "-nGQbdBQI5A0"
   },
   "source": [
    "### validate:"
   ]
  },
  {
   "cell_type": "code",
   "execution_count": 6,
   "metadata": {
    "colab": {},
    "colab_type": "code",
    "id": "pmuAEpSII5Ar"
   },
   "outputs": [
    {
     "data": {
      "text/plain": [
       "9.2"
      ]
     },
     "execution_count": 6,
     "metadata": {},
     "output_type": "execute_result"
    }
   ],
   "source": [
    "#ur(σr,σc)\n",
    "ur=0.2*0.6*8+0.2*0.4*1+0.8*0.6*15+0.8*0.4*3\n",
    "ur"
   ]
  },
  {
   "cell_type": "code",
   "execution_count": 7,
   "metadata": {
    "colab": {},
    "colab_type": "code",
    "id": "W6KZrnGxI5Au"
   },
   "outputs": [
    {
     "data": {
      "text/plain": [
       "3.6000000000000005"
      ]
     },
     "execution_count": 7,
     "metadata": {},
     "output_type": "execute_result"
    }
   ],
   "source": [
    "#uc(σr,σc)\n",
    "uc=0.2*0.6*8+0.2*0.4*15+0.8*0.6*1+0.8*0.4*3\n",
    "uc"
   ]
  },
  {
   "cell_type": "markdown",
   "metadata": {
    "colab_type": "text",
    "id": "Y28VJqzfI5A2"
   },
   "source": [
    "### calculating the utilities of the game 'gm', using \n",
    "#### σr=(.3,.7) and σc=(.5,.5)"
   ]
  },
  {
   "cell_type": "code",
   "execution_count": 9,
   "metadata": {
    "colab": {},
    "colab_type": "code",
    "id": "qf6LY92kI5A3"
   },
   "outputs": [
    {
     "data": {
      "text/plain": [
       "array([12.4 ,  8.15])"
      ]
     },
     "execution_count": 9,
     "metadata": {},
     "output_type": "execute_result"
    }
   ],
   "source": [
    "sig_r = np.array([.3,.7])\n",
    "\n",
    "sig_c = np.array([.5,.5])\n",
    "\n",
    "gm = nash.Game(pA,pB)\n",
    "\n",
    "gm[sig_r, sig_c]"
   ]
  }
 ],
 "metadata": {
  "colab": {
   "collapsed_sections": [],
   "name": "game-theory-with-python-notebook.ipynb",
   "provenance": []
  },
  "kernelspec": {
   "display_name": "Python 3 (ipykernel)",
   "language": "python",
   "name": "python3"
  },
  "language_info": {
   "codemirror_mode": {
    "name": "ipython",
    "version": 3
   },
   "file_extension": ".py",
   "mimetype": "text/x-python",
   "name": "python",
   "nbconvert_exporter": "python",
   "pygments_lexer": "ipython3",
   "version": "3.9.2"
  }
 },
 "nbformat": 4,
 "nbformat_minor": 1
}
