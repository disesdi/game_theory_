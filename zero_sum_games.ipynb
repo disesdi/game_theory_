{
 "cells": [
  {
   "cell_type": "markdown",
   "metadata": {},
   "source": [
    "# zero sum games\n",
    "\n",
    "in zero sum games, the gain of one player is ***exactly*** the loss of the other player.\n",
    "\n",
    "they're called zero sum because summing up the payoffs for any combination of strategies will result in zero. in other words, mathematically the payoff to one player is the *compliment* of payoff to the other player.\n",
    "\n",
    "because of this property, it's only necessary to code the payoffs for one player into an array. the library automatically interprets this as a zero sum game.\n",
    "\n",
    "for more on game theory & pure strategy Nash equilibria check out \"*Chapter 2 - Game Theory for Infrastructure Security: The Power of Intent-Based Adversary Models*\" from \n",
    "\n",
    "* Alireza Shamsoshoara, Ashwija Korenda, Fatemeh Afghah, Sherali Zeadally, A survey on physical unclonable function (PUF)-based security solutions for Internet of Things,Computer Networks,Volume 183,2020,107593,ISSN 1389-1286, https://doi.org/10.1016/j.comnet.2020.107593.\n",
    "\n",
    "also check out:\n",
    "\n",
    "* [Nashpy Introduction to Game Theory](https://nashpy.readthedocs.io/en/stable/tutorial/index.html#introduction-to-game-theory) \n",
    "\n",
    "and the\n",
    "\n",
    "* [Nashpy documentation](https://nashpy.readthedocs.io/en/stable/) \n",
    "\n",
    "* [Numpy documentation](https://numpy.org/doc/)\n"
   ]
  },
  {
   "cell_type": "code",
   "execution_count": 1,
   "metadata": {
    "colab": {},
    "colab_type": "code",
    "id": "vDUwerlDI5AS"
   },
   "outputs": [
    {
     "name": "stdout",
     "output_type": "stream",
     "text": [
      "Requirement already satisfied: nashpy in ./.local/lib/python3.9/site-packages (0.0.35)\r\n",
      "Requirement already satisfied: numpy>=1.21.0 in ./.local/lib/python3.9/site-packages (from nashpy) (1.23.4)\r\n",
      "Requirement already satisfied: scipy>=0.19.0 in ./.local/lib/python3.9/site-packages (from nashpy) (1.9.2)\r\n"
     ]
    }
   ],
   "source": [
    "# Import packages\n",
    "!pip install nashpy\n",
    "\n",
    "import nashpy as nash\n",
    "import numpy as np"
   ]
  },
  {
   "cell_type": "markdown",
   "metadata": {
    "colab_type": "text",
    "id": "5NhqPum6I5BX"
   },
   "source": [
    "\n",
    "**matching the pennies game:**\n",
    "\n",
    "![picture](https://drive.google.com/uc?id=1DJhLFiRbUah8Cvku03oGP5C2eFuDPxBQ)\n",
    "\n",
    "*adapted from Coursera*"
   ]
  },
  {
   "cell_type": "code",
   "execution_count": 25,
   "metadata": {
    "colab": {},
    "colab_type": "code",
    "id": "3w_YHAZTI5BX"
   },
   "outputs": [
    {
     "data": {
      "text/plain": [
       "Zero sum game with payoff matrices:\n",
       "\n",
       "Row player:\n",
       "[[ 1 -1]\n",
       " [-1  1]]\n",
       "\n",
       "Column player:\n",
       "[[-1  1]\n",
       " [ 1 -1]]"
      ]
     },
     "execution_count": 25,
     "metadata": {},
     "output_type": "execute_result"
    }
   ],
   "source": [
    "P5 = np.array([[1,-1],[-1,1]])\n",
    "mp = nash.Game(P5)\n",
    "mp"
   ]
  },
  {
   "cell_type": "code",
   "execution_count": 27,
   "metadata": {
    "colab": {},
    "colab_type": "code",
    "id": "U9bM_W8eI5Bg"
   },
   "outputs": [
    {
     "name": "stdout",
     "output_type": "stream",
     "text": [
      "(array([0.5, 0.5]), array([0.5, 0.5]))\n"
     ]
    }
   ],
   "source": [
    "equilibria = mp.support_enumeration()\n",
    "\n",
    "for eq in equilibria:\n",
    "    \n",
    "    print(eq)"
   ]
  },
  {
   "cell_type": "markdown",
   "metadata": {},
   "source": [
    "\n",
    "* this is called the *Mixed Strategy Nash Equilibrium* for this game\n",
    "\n",
    "* probabilities will not always be 50/50; depending on the chaos & the game "
   ]
  },
  {
   "cell_type": "markdown",
   "metadata": {
    "colab_type": "text",
    "id": "AwgfpFL-I5Bk"
   },
   "source": [
    "### find the solution for the zero sum game 'zs'\n",
    "\n",
    "* payoff matrix - np.array([[5, -6.5], [-2.5, 7]]) \n",
    "* players *Z1* and *Z2*"
   ]
  },
  {
   "cell_type": "code",
   "execution_count": 28,
   "metadata": {
    "colab": {},
    "colab_type": "code",
    "id": "B9ypJKPZI5Bl"
   },
   "outputs": [
    {
     "data": {
      "text/plain": [
       "Zero sum game with payoff matrices:\n",
       "\n",
       "Row player:\n",
       "[[ 5.  -6.5]\n",
       " [-2.5  7. ]]\n",
       "\n",
       "Column player:\n",
       "[[-5.   6.5]\n",
       " [ 2.5 -7. ]]"
      ]
     },
     "execution_count": 28,
     "metadata": {},
     "output_type": "execute_result"
    }
   ],
   "source": [
    "Z1 = np.array([[5,-6.5],[-2.5,7]])\n",
    "\n",
    "zs = nash.Game(Z1)\n",
    "\n",
    "zs"
   ]
  },
  {
   "cell_type": "code",
   "execution_count": 30,
   "metadata": {
    "colab": {},
    "colab_type": "code",
    "id": "9qPZdieaI5Bo"
   },
   "outputs": [
    {
     "name": "stdout",
     "output_type": "stream",
     "text": [
      "(array([0.45238095, 0.54761905]), array([0.64285714, 0.35714286]))\n"
     ]
    }
   ],
   "source": [
    "equilibria = zs.support_enumeration()\n",
    "\n",
    "for eq in equilibria:\n",
    "    \n",
    "    print(eq)"
   ]
  },
  {
   "cell_type": "markdown",
   "metadata": {},
   "source": [
    "this is the mixed strategy Nash equilibrium for the game *`zs`*.\n",
    "\n",
    "***interpreting results:***\n",
    "\n",
    "if the game is played 100 times, and \n",
    "\n",
    "> * Z1 plays S1 (strategy 1) 45 times, and S2 the remaining 55 times\n",
    ">\n",
    "> __and__ \n",
    "> * Z2 plays S1 64 times, and plays S2 the remaining 36 times\n",
    "\n",
    "...they will obtain the same expected payoffs."
   ]
  }
 ],
 "metadata": {
  "colab": {
   "collapsed_sections": [],
   "name": "game-theory-with-python-notebook.ipynb",
   "provenance": []
  },
  "kernelspec": {
   "display_name": "Python 3 (ipykernel)",
   "language": "python",
   "name": "python3"
  },
  "language_info": {
   "codemirror_mode": {
    "name": "ipython",
    "version": 3
   },
   "file_extension": ".py",
   "mimetype": "text/x-python",
   "name": "python",
   "nbconvert_exporter": "python",
   "pygments_lexer": "ipython3",
   "version": "3.9.2"
  }
 },
 "nbformat": 4,
 "nbformat_minor": 1
}
