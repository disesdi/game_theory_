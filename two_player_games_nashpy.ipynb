{
 "cells": [
  {
   "cell_type": "markdown",
   "metadata": {
    "colab_type": "text",
    "id": "iQPnHp9SI5AQ"
   },
   "source": [
    "# two player games with Nashpy\n",
    "\n",
    "Nashpy is a python library for **game theory**, specifically \"*for the computation of equilibria in 2 player strategic form games.*\"\n",
    "\n",
    "Game theory is \"*the study of strategic interactions between rational agents. This means that it is the study of interactions when the involved parties try and do what is best from their point of view.*\" - from the Nashpy [Introduction to Game Theory](https://nashpy.readthedocs.io/en/stable/tutorial/index.html#introduction-to-game-theory)\n",
    "\n",
    "\n",
    "* ***Nashpy documentation:*** https://nashpy.readthedocs.io/en/stable/\n",
    "\n",
    "\n",
    "## more game theory:\n",
    "\n",
    "* Game Theory Concepts In Python Part 1: https://towardsdatascience.com/game-theory-in-python-with-nashpy-cb5dceab262c\n",
    "\n",
    "\n",
    "* Game Theory Concepts In Python Part 2:https://towardsdatascience.com/game-theory-concepts-with-application-in-python-using-axel-rod-part-2-8ae5e10e09a0"
   ]
  },
  {
   "cell_type": "markdown",
   "metadata": {
    "colab_type": "text",
    "id": "fKYKZgVyI5AR"
   },
   "source": [
    "### prisoner's dilemma matrix:\n",
    "\n",
    "![picture](https://drive.google.com/uc?id=1fw7j7O8XLGQR3Rt_c9UK_PE6KgLsFeEw)\n"
   ]
  },
  {
   "cell_type": "code",
   "execution_count": 1,
   "metadata": {
    "colab": {},
    "colab_type": "code",
    "id": "vDUwerlDI5AS"
   },
   "outputs": [
    {
     "name": "stdout",
     "output_type": "stream",
     "text": [
      "Collecting nashpy\n",
      "  Downloading nashpy-0.0.35-py3-none-any.whl (25 kB)\n",
      "Collecting numpy>=1.21.0\n",
      "  Downloading numpy-1.23.4-cp39-cp39-manylinux_2_17_x86_64.manylinux2014_x86_64.whl (17.1 MB)\n",
      "\u001b[K     |████████████████████████████████| 17.1 MB 192 kB/s eta 0:00:01    |████████████▎                   | 6.6 MB 6.2 MB/s eta 0:00:02\n",
      "\u001b[?25hCollecting scipy>=0.19.0\n",
      "  Downloading scipy-1.9.2-cp39-cp39-manylinux_2_17_x86_64.manylinux2014_x86_64.whl (33.8 MB)\n",
      "\u001b[K     |████████████████████████████████| 33.8 MB 47 kB/s s eta 0:00:01     |████████████████▏               | 17.0 MB 35.7 MB/s eta 0:00:01    |█████████████████████████████▍  | 30.9 MB 23.7 MB/s eta 0:00:01    |██████████████████████████████  | 31.5 MB 23.7 MB/s eta 0:00:01\n",
      "\u001b[?25hInstalling collected packages: numpy, scipy, nashpy\n",
      "Successfully installed nashpy-0.0.35 numpy-1.23.4 scipy-1.9.2\n",
      "Collecting axelrod\n",
      "  Downloading Axelrod-4.12.0-py2.py3-none-any.whl (191 kB)\n",
      "\u001b[K     |████████████████████████████████| 191 kB 3.2 MB/s eta 0:00:01\n",
      "\u001b[?25hCollecting docutils<=0.17\n",
      "  Downloading docutils-0.17-py2.py3-none-any.whl (575 kB)\n",
      "\u001b[K     |████████████████████████████████| 575 kB 40.7 MB/s eta 0:00:01\n",
      "\u001b[?25hRequirement already satisfied: numpy>=1.17.4 in ./.local/lib/python3.9/site-packages (from axelrod) (1.23.4)\n",
      "Collecting pyyaml>=5.1\n",
      "  Downloading PyYAML-6.0-cp39-cp39-manylinux_2_5_x86_64.manylinux1_x86_64.manylinux_2_12_x86_64.manylinux2010_x86_64.whl (661 kB)\n",
      "\u001b[K     |████████████████████████████████| 661 kB 6.5 MB/s eta 0:00:01\n",
      "\u001b[?25hCollecting matplotlib>=3.0.3\n",
      "  Downloading matplotlib-3.6.1-cp39-cp39-manylinux_2_17_x86_64.manylinux2014_x86_64.whl (11.8 MB)\n",
      "\u001b[K     |████████████████████████████████| 11.8 MB 9.4 MB/s eta 0:00:01\n",
      "\u001b[?25hRequirement already satisfied: scipy>=1.3.3 in ./.local/lib/python3.9/site-packages (from axelrod) (1.9.2)\n",
      "Collecting pandas>=1.0.0\n",
      "  Downloading pandas-1.5.0-cp39-cp39-manylinux_2_17_x86_64.manylinux2014_x86_64.whl (12.2 MB)\n",
      "\u001b[K     |████████████████████████████████| 12.2 MB 8.7 MB/s eta 0:00:01\n",
      "\u001b[?25hCollecting dask>=2.9.2\n",
      "  Downloading dask-2022.10.0-py3-none-any.whl (1.1 MB)\n",
      "\u001b[K     |████████████████████████████████| 1.1 MB 10.4 MB/s eta 0:00:01\n",
      "\u001b[?25hCollecting tqdm>=4.39.0\n",
      "  Downloading tqdm-4.64.1-py2.py3-none-any.whl (78 kB)\n",
      "\u001b[K     |████████████████████████████████| 78 kB 2.3 MB/s  eta 0:00:01\n",
      "\u001b[?25hCollecting cloudpickle>=0.2.2\n",
      "  Downloading cloudpickle-2.2.0-py3-none-any.whl (25 kB)\n",
      "Requirement already satisfied: prompt-toolkit>=3.0 in /usr/local/lib/python3.9/dist-packages (from axelrod) (3.0.30)\n",
      "Collecting fsspec>=0.6.0\n",
      "  Downloading fsspec-2022.8.2-py3-none-any.whl (140 kB)\n",
      "\u001b[K     |████████████████████████████████| 140 kB 5.4 MB/s eta 0:00:01\n",
      "\u001b[?25hCollecting toolz>=0.8.2\n",
      "  Downloading toolz-0.12.0-py3-none-any.whl (55 kB)\n",
      "\u001b[K     |████████████████████████████████| 55 kB 962 kB/s eta 0:00:011\n",
      "\u001b[?25hRequirement already satisfied: packaging>=20.0 in /usr/local/lib/python3.9/dist-packages (from dask>=2.9.2->axelrod) (21.3)\n",
      "Collecting partd>=0.3.10\n",
      "  Downloading partd-1.3.0-py3-none-any.whl (18 kB)\n",
      "Collecting contourpy>=1.0.1\n",
      "  Downloading contourpy-1.0.5-cp39-cp39-manylinux_2_17_x86_64.manylinux2014_x86_64.whl (296 kB)\n",
      "\u001b[K     |████████████████████████████████| 296 kB 2.6 MB/s eta 0:00:01\n",
      "\u001b[?25hCollecting fonttools>=4.22.0\n",
      "  Downloading fonttools-4.37.4-py3-none-any.whl (960 kB)\n",
      "\u001b[K     |████████████████████████████████| 960 kB 2.4 MB/s eta 0:00:01\n",
      "\u001b[?25hRequirement already satisfied: pyparsing>=2.2.1 in /usr/local/lib/python3.9/dist-packages (from matplotlib>=3.0.3->axelrod) (3.0.9)\n",
      "Requirement already satisfied: python-dateutil>=2.7 in /usr/local/lib/python3.9/dist-packages (from matplotlib>=3.0.3->axelrod) (2.8.2)\n",
      "Collecting pillow>=6.2.0\n",
      "  Downloading Pillow-9.2.0-cp39-cp39-manylinux_2_28_x86_64.whl (3.2 MB)\n",
      "\u001b[K     |████████████████████████████████| 3.2 MB 4.2 MB/s eta 0:00:01\n",
      "\u001b[?25hCollecting cycler>=0.10\n",
      "  Downloading cycler-0.11.0-py3-none-any.whl (6.4 kB)\n",
      "Collecting kiwisolver>=1.0.1\n",
      "  Downloading kiwisolver-1.4.4-cp39-cp39-manylinux_2_12_x86_64.manylinux2010_x86_64.whl (1.6 MB)\n",
      "\u001b[K     |████████████████████████████████| 1.6 MB 14.0 MB/s eta 0:00:01\n",
      "\u001b[?25hCollecting pytz>=2020.1\n",
      "  Downloading pytz-2022.4-py2.py3-none-any.whl (500 kB)\n",
      "\u001b[K     |████████████████████████████████| 500 kB 3.0 MB/s eta 0:00:01\n",
      "\u001b[?25hCollecting locket\n",
      "  Downloading locket-1.0.0-py2.py3-none-any.whl (4.4 kB)\n",
      "Requirement already satisfied: wcwidth in /usr/local/lib/python3.9/dist-packages (from prompt-toolkit>=3.0->axelrod) (0.2.5)\n",
      "Requirement already satisfied: six>=1.5 in /usr/local/lib/python3.9/dist-packages (from python-dateutil>=2.7->matplotlib>=3.0.3->axelrod) (1.16.0)\n",
      "Installing collected packages: toolz, locket, pyyaml, pytz, pillow, partd, kiwisolver, fsspec, fonttools, cycler, contourpy, cloudpickle, tqdm, pandas, matplotlib, docutils, dask, axelrod\n",
      "Successfully installed axelrod-4.12.0 cloudpickle-2.2.0 contourpy-1.0.5 cycler-0.11.0 dask-2022.10.0 docutils-0.17 fonttools-4.37.4 fsspec-2022.8.2 kiwisolver-1.4.4 locket-1.0.0 matplotlib-3.6.1 pandas-1.5.0 partd-1.3.0 pillow-9.2.0 pytz-2022.4 pyyaml-6.0 toolz-0.12.0 tqdm-4.64.1\n"
     ]
    }
   ],
   "source": [
    "# Import packages\n",
    "!pip install nashpy\n",
    "!pip install axelrod\n",
    "\n",
    "import nashpy as nash\n",
    "import numpy as np"
   ]
  },
  {
   "cell_type": "code",
   "execution_count": 2,
   "metadata": {
    "colab": {},
    "colab_type": "code",
    "id": "D-rB1BgYI5Aa"
   },
   "outputs": [
    {
     "data": {
      "text/plain": [
       "Bi matrix game with payoff matrices:\n",
       "\n",
       "Row player:\n",
       "[[ 8  1]\n",
       " [15  3]]\n",
       "\n",
       "Column player:\n",
       "[[ 8 15]\n",
       " [ 1  3]]"
      ]
     },
     "execution_count": 2,
     "metadata": {},
     "output_type": "execute_result"
    }
   ],
   "source": [
    "# payoff matrix\n",
    "\n",
    "# P1 is the row player\n",
    "P1 = np.array([[8,1],[15,3]]) \n",
    "\n",
    "# P2 is the column player\n",
    "P2 = np.array([[8,15],[1,3]])\n",
    "\n",
    "# pd stands for prisoners dilemma\n",
    "pd = nash.Game(P1,P2)\n",
    "\n",
    "# use `pd` to check game\n",
    "pd\n"
   ]
  },
  {
   "cell_type": "markdown",
   "metadata": {
    "colab_type": "text",
    "id": "mapgZsumI5Ae"
   },
   "source": [
    "### two player game: players as *A* and *B*\n",
    "\n",
    "***matrix:*** \n",
    "\n",
    "![picture](https://drive.google.com/uc?id=1eHhyXZVZWQ3oPto4qcbL1EefxUsWq4bp)\n"
   ]
  },
  {
   "cell_type": "code",
   "execution_count": 4,
   "metadata": {
    "colab": {},
    "colab_type": "code",
    "id": "LBZatKa-I5Af"
   },
   "outputs": [
    {
     "data": {
      "text/plain": [
       "Bi matrix game with payoff matrices:\n",
       "\n",
       "Row player:\n",
       "[[ 5 17]\n",
       " [14 12]]\n",
       "\n",
       "Column player:\n",
       "[[15 16]\n",
       " [ 2  8]]"
      ]
     },
     "execution_count": 4,
     "metadata": {},
     "output_type": "execute_result"
    }
   ],
   "source": [
    "# pA is row player\n",
    "pA = np.array([[5,17],[14,12]])\n",
    "\n",
    "# pB is column player\n",
    "pB = np.array([[15,16],[2,8]])\n",
    "\n",
    "gm = nash.Game(pA,pB)\n",
    "\n",
    "gm"
   ]
  }
 ],
 "metadata": {
  "colab": {
   "collapsed_sections": [],
   "name": "game-theory-with-python-notebook.ipynb",
   "provenance": []
  },
  "kernelspec": {
   "display_name": "Python 3 (ipykernel)",
   "language": "python",
   "name": "python3"
  },
  "language_info": {
   "codemirror_mode": {
    "name": "ipython",
    "version": 3
   },
   "file_extension": ".py",
   "mimetype": "text/x-python",
   "name": "python",
   "nbconvert_exporter": "python",
   "pygments_lexer": "ipython3",
   "version": "3.9.2"
  }
 },
 "nbformat": 4,
 "nbformat_minor": 1
}
